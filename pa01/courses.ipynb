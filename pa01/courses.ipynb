{
 "cells": [
  {
   "cell_type": "markdown",
   "metadata": {},
   "source": [
    "# Courses Demo\n",
    "This Jupyter notebook is for exploring the data set courses20-21.json\n",
    "which consists of all Brandeis courses in the 20-21 academic year (Fall20, Spr21, Sum21) \n",
    "which had at least 1 student enrolled.\n",
    "\n",
    "First we need to read the json file into a list of Python dictionaries"
   ]
  },
  {
   "cell_type": "code",
   "execution_count": 10,
   "metadata": {},
   "outputs": [],
   "source": [
    "import json\n",
    "import pandas as pd\n",
    "import numpy as np\n",
    "from collections import defaultdict\n",
    "from itertools import islice"
   ]
  },
  {
   "cell_type": "code",
   "execution_count": 11,
   "metadata": {},
   "outputs": [],
   "source": [
    "with open(\"courses20-21.json\",\"r\",encoding='utf-8') as jsonfile:\n",
    "    courses = json.load(jsonfile)"
   ]
  },
  {
   "cell_type": "markdown",
   "metadata": {},
   "source": [
    "## Structure of a course\n",
    "Next we look at the fields of each course dictionary and their values"
   ]
  },
  {
   "cell_type": "code",
   "execution_count": 12,
   "metadata": {},
   "outputs": [
    {
     "name": "stdout",
     "output_type": "stream",
     "text": [
      "there are 7813 courses in the dataset\n",
      "here is the data for course 1246\n"
     ]
    },
    {
     "data": {
      "text/plain": [
       "{'limit': 28,\n",
       " 'times': [{'start': 1080, 'end': 1170, 'days': ['w', 'm']}],\n",
       " 'enrolled': 4,\n",
       " 'details': 'Instruction for this course will be offered remotely. Meeting times for this course are listed in the schedule of classes (in ET).',\n",
       " 'type': 'section',\n",
       " 'status_text': 'Open',\n",
       " 'section': '1',\n",
       " 'waiting': 0,\n",
       " 'instructor': ['An', 'Huang', 'anhuang@brandeis.edu'],\n",
       " 'coinstructors': [],\n",
       " 'code': ['MATH', '223A'],\n",
       " 'subject': 'MATH',\n",
       " 'coursenum': '223A',\n",
       " 'name': 'Lie Algebras: Representation Theory',\n",
       " 'independent_study': False,\n",
       " 'term': '1203',\n",
       " 'description': \"Theorems of Engel and Lie. Semisimple Lie algebras, Cartan's criterion. Universal enveloping algebras, PBW theorem, Serre's construction. Representation theory. Other topics as time permits. Usually offered every second year.\\nAn Huang\"}"
      ]
     },
     "execution_count": 12,
     "metadata": {},
     "output_type": "execute_result"
    }
   ],
   "source": [
    "print('there are',len(courses),'courses in the dataset')\n",
    "print('here is the data for course 1246')\n",
    "courses[1246]"
   ]
  },
  {
   "cell_type": "markdown",
   "metadata": {},
   "source": [
    "## Cleaning the data\n",
    "If we want to sort courses by instructor or by code, we need to replace the lists with tuples (which are immutable lists)"
   ]
  },
  {
   "cell_type": "code",
   "execution_count": 13,
   "metadata": {},
   "outputs": [],
   "source": [
    "for course in courses:\n",
    "        course['instructor'] = tuple(course['instructor'])\n",
    "        course['coinstructors'] = tuple([tuple(f) for f in course['coinstructors']])\n",
    "        course['code']= tuple(course['code'])"
   ]
  },
  {
   "cell_type": "code",
   "execution_count": 14,
   "metadata": {},
   "outputs": [
    {
     "name": "stdout",
     "output_type": "stream",
     "text": [
      "notice that the instructor and code are tuples now\n"
     ]
    },
    {
     "data": {
      "text/plain": [
       "{'limit': 28,\n",
       " 'times': [{'start': 1080, 'end': 1170, 'days': ['w', 'm']}],\n",
       " 'enrolled': 4,\n",
       " 'details': 'Instruction for this course will be offered remotely. Meeting times for this course are listed in the schedule of classes (in ET).',\n",
       " 'type': 'section',\n",
       " 'status_text': 'Open',\n",
       " 'section': '1',\n",
       " 'waiting': 0,\n",
       " 'instructor': ('An', 'Huang', 'anhuang@brandeis.edu'),\n",
       " 'coinstructors': (),\n",
       " 'code': ('MATH', '223A'),\n",
       " 'subject': 'MATH',\n",
       " 'coursenum': '223A',\n",
       " 'name': 'Lie Algebras: Representation Theory',\n",
       " 'independent_study': False,\n",
       " 'term': '1203',\n",
       " 'description': \"Theorems of Engel and Lie. Semisimple Lie algebras, Cartan's criterion. Universal enveloping algebras, PBW theorem, Serre's construction. Representation theory. Other topics as time permits. Usually offered every second year.\\nAn Huang\"}"
      ]
     },
     "execution_count": 14,
     "metadata": {},
     "output_type": "execute_result"
    }
   ],
   "source": [
    "print('notice that the instructor and code are tuples now')\n",
    "courses[1246]"
   ]
  },
  {
   "cell_type": "markdown",
   "metadata": {},
   "source": [
    "# Exploring the data set\n",
    "Now we will show how to use straight python to explore the data set and answer some interesting questions. Next week we will start learning Pandas/Numpy which are packages that make it easier to explore large dataset efficiently.\n",
    "\n",
    "Here are some questions we can try to asnwer:\n",
    "* what are all of the subjects of courses (e.g. COSI, MATH, JAPN, PHIL, ...)\n",
    "* which terms are represented?\n",
    "* how many instructors taught at Brandeis last year?\n",
    "* what were the five largest course sections?\n",
    "* what were the five largest courses (where we combine sections)?\n",
    "* which are the five largest subjects measured by number of courses offered?\n",
    "* which are the five largest courses measured by number of students taught?\n",
    "* which course had the most sections taught in 20-21?\n",
    "* who are the top five faculty in terms of number of students taught?\n",
    "* etc."
   ]
  },
  {
   "cell_type": "markdown",
   "metadata": {},
   "source": [
    "### a) How many faculty taught COSI courses last year?"
   ]
  },
  {
   "cell_type": "code",
   "execution_count": 15,
   "metadata": {},
   "outputs": [
    {
     "data": {
      "text/plain": [
       "27"
      ]
     },
     "execution_count": 15,
     "metadata": {},
     "output_type": "execute_result"
    }
   ],
   "source": [
    "cosi_courses = len({c['instructor'] for c in courses if c['subject'] == 'COSI' })\n",
    "cosi_courses"
   ]
  },
  {
   "cell_type": "markdown",
   "metadata": {},
   "source": [
    "### b) What is the total number of students taking COSI courses last year?"
   ]
  },
  {
   "cell_type": "code",
   "execution_count": 16,
   "metadata": {},
   "outputs": [
    {
     "data": {
      "text/plain": [
       "2223"
      ]
     },
     "execution_count": 16,
     "metadata": {},
     "output_type": "execute_result"
    }
   ],
   "source": [
    "enrolled_cosi = 0\n",
    "for c in courses:\n",
    "    if c['subject'] == 'COSI':\n",
    "        enrolled_cosi += c['enrolled']\n",
    "enrolled_cosi"
   ]
  },
  {
   "cell_type": "markdown",
   "metadata": {},
   "source": [
    "### c) What was the median size of a COSI course last year (counting only those courses with at least 10 students)?"
   ]
  },
  {
   "cell_type": "code",
   "execution_count": 17,
   "metadata": {},
   "outputs": [
    {
     "data": {
      "text/plain": [
       "37.0"
      ]
     },
     "execution_count": 17,
     "metadata": {},
     "output_type": "execute_result"
    }
   ],
   "source": [
    "median_cosi = []\n",
    "for c in courses:\n",
    "    if c['subject'] == 'COSI' and c['enrolled'] >= 10:\n",
    "        median_cosi.append(c['enrolled'])\n",
    "np.median(median_cosi)"
   ]
  },
  {
   "cell_type": "markdown",
   "metadata": {},
   "source": [
    "### d) create a list of tuples (E,S) where S is a subject and E is the number of students enrolled in courses in that subject, sort it and print the top 10. This shows the top 10 subjects in terms of number of students taught."
   ]
  },
  {
   "cell_type": "code",
   "execution_count": 18,
   "metadata": {},
   "outputs": [],
   "source": [
    "subject_enrolled = {}\n",
    "for c in courses:\n",
    "    if c['subject'] in subject_enrolled:\n",
    "        subject_enrolled[c['subject']] += c['enrolled']\n",
    "    else:\n",
    "        subject_enrolled[c['subject']] = c['enrolled']"
   ]
  },
  {
   "cell_type": "code",
   "execution_count": 19,
   "metadata": {},
   "outputs": [],
   "source": [
    "subject_students = []\n",
    "for subject, students in subject_enrolled.items():\n",
    "    subject_students.append((subject, students))"
   ]
  },
  {
   "cell_type": "code",
   "execution_count": 20,
   "metadata": {},
   "outputs": [
    {
     "data": {
      "text/plain": [
       "[('HS', 5318),\n",
       " ('BIOL', 3085),\n",
       " ('BUS', 2766),\n",
       " ('HWL', 2734),\n",
       " ('CHEM', 2322),\n",
       " ('ECON', 2315),\n",
       " ('COSI', 2223),\n",
       " ('MATH', 1785),\n",
       " ('PSYC', 1704),\n",
       " ('ANTH', 1144)]"
      ]
     },
     "execution_count": 20,
     "metadata": {},
     "output_type": "execute_result"
    }
   ],
   "source": [
    "subject_students.sort(key=lambda x: x[1], reverse=True)\n",
    "subject_students[0:10]"
   ]
  },
  {
   "cell_type": "markdown",
   "metadata": {},
   "source": [
    "### e) Do the same as in (d) but print the top 10 subjects in terms of number of courses offered."
   ]
  },
  {
   "cell_type": "code",
   "execution_count": 21,
   "metadata": {},
   "outputs": [],
   "source": [
    "course_subjects = defaultdict(set)\n",
    "for c in courses:\n",
    "    course_subjects[c['subject']].add(c['name'])"
   ]
  },
  {
   "cell_type": "code",
   "execution_count": 22,
   "metadata": {},
   "outputs": [],
   "source": [
    "subj_courses = []\n",
    "for subject, course in course_subjects.items():\n",
    "    subj_courses.append((subject, (len(course))))"
   ]
  },
  {
   "cell_type": "code",
   "execution_count": 24,
   "metadata": {},
   "outputs": [
    {
     "data": {
      "text/plain": [
       "[('HS', 170),\n",
       " ('ENG', 67),\n",
       " ('BIOL', 62),\n",
       " ('BUS', 58),\n",
       " ('ANTH', 56),\n",
       " ('MUS', 56),\n",
       " ('PSYC', 55),\n",
       " ('MATH', 53),\n",
       " ('ECON', 49),\n",
       " ('FA', 49)]"
      ]
     },
     "execution_count": 24,
     "metadata": {},
     "output_type": "execute_result"
    }
   ],
   "source": [
    "subj_courses.sort(key=lambda x: x[1], reverse=True)\n",
    "subj_courses[0:10]"
   ]
  },
  {
   "cell_type": "markdown",
   "metadata": {},
   "source": [
    "### f) do the same as (d) but print the top 10 subjects in terms of number of faculty teaching courses in that subject"
   ]
  },
  {
   "cell_type": "code",
   "execution_count": 25,
   "metadata": {},
   "outputs": [],
   "source": [
    "faculty_dict = defaultdict(set)\n",
    "for c in courses:\n",
    "    faculty_dict[c['subject']].add(c['instructor'][2])"
   ]
  },
  {
   "cell_type": "code",
   "execution_count": 26,
   "metadata": {},
   "outputs": [],
   "source": [
    "subj_faculty = []\n",
    "for subject, profs in faculty_dict.items():\n",
    "    subj_faculty.append((subject, (len(profs))))"
   ]
  },
  {
   "cell_type": "code",
   "execution_count": 28,
   "metadata": {},
   "outputs": [
    {
     "data": {
      "text/plain": [
       "[('HS', 84),\n",
       " ('BIOL', 67),\n",
       " ('ECON', 52),\n",
       " ('BCHM', 49),\n",
       " ('HIST', 47),\n",
       " ('BUS', 46),\n",
       " ('BCBP', 46),\n",
       " ('HWL', 42),\n",
       " ('MATH', 37),\n",
       " ('NEJS', 37)]"
      ]
     },
     "execution_count": 28,
     "metadata": {},
     "output_type": "execute_result"
    }
   ],
   "source": [
    "subj_faculty.sort(key=lambda x: x[1], reverse=True)\n",
    "subj_faculty[0:10]"
   ]
  },
  {
   "cell_type": "markdown",
   "metadata": {},
   "source": [
    "### g) list the top 20 faculty in terms of number of students they taught"
   ]
  },
  {
   "cell_type": "code",
   "execution_count": 29,
   "metadata": {},
   "outputs": [],
   "source": [
    "faculty_students = defaultdict(list)\n",
    "for c in courses:\n",
    "    faculty_students[c['instructor'][0:2]].append(c['enrolled'])"
   ]
  },
  {
   "cell_type": "code",
   "execution_count": 30,
   "metadata": {},
   "outputs": [],
   "source": [
    "sorted_faculty_students = ({k: v for k, v in sorted(faculty_students.items(),\n",
    "                                                   key=lambda item: len(item[1]), reverse=True)})"
   ]
  },
  {
   "cell_type": "code",
   "execution_count": 31,
   "metadata": {},
   "outputs": [
    {
     "name": "stdout",
     "output_type": "stream",
     "text": [
      "#1 ('Suzanne G.', 'Paradis') :  num students:  51\n",
      "#2 ('Leslie Claire', 'Griffith') :  num students:  49\n",
      "#3 ('Kene Nathan', 'Piasta') :  num students:  49\n",
      "#4 ('Sacha', 'Nelson') :  num students:  47\n",
      "#5 ('Seth', 'Fraden') :  num students:  47\n",
      "#6 ('Paul', 'DiZio') :  num students:  47\n",
      "#7 ('John', 'Lisman') :  num students:  46\n",
      "#8 ('Michael', 'Rosbash') :  num students:  45\n",
      "#9 ('Donald B.', 'Katz') :  num students:  45\n",
      "#10 ('Robert W', 'Sekuler') :  num students:  45\n",
      "#11 ('Arthur', 'Wingfield') :  num students:  44\n",
      "#12 ('Karen', 'Hansen') :  num students:  41\n",
      "#13 ('Lizbeth', 'Hedstrom') :  num students:  40\n",
      "#14 ('Avital', 'Rodal') :  num students:  39\n",
      "#15 ('Susan J', 'Birren') :  num students:  39\n",
      "#16 ('James R', 'Lackner') :  num students:  39\n",
      "#17 ('Angela', 'Gutchess') :  num students:  39\n",
      "#18 ('Ellen', 'Schattschneider') :  num students:  38\n",
      "#19 ('Faith Lois', 'Smith') :  num students:  38\n",
      "#20 ('Paul', 'Miller') :  num students:  36\n"
     ]
    }
   ],
   "source": [
    "x = 0\n",
    "for key, value in islice(sorted_faculty_students.items(), 0, 20):\n",
    "    x+=1\n",
    "    print(f\"#{x}\", key, \": \", \"num students: \", len(value))"
   ]
  },
  {
   "cell_type": "markdown",
   "metadata": {},
   "source": [
    "### h) list the top 20 courses in terms of number of students taking that course (where you combine different sections and semesters, i.e. just use the subject and course number)"
   ]
  },
  {
   "cell_type": "code",
   "execution_count": 32,
   "metadata": {},
   "outputs": [],
   "source": [
    "courses_enrolled = {}\n",
    "for c in courses:\n",
    "    courses_enrolled[(c['subject'], c['coursenum'])] = c['enrolled']"
   ]
  },
  {
   "cell_type": "code",
   "execution_count": 33,
   "metadata": {},
   "outputs": [],
   "source": [
    "sorted_courses_enrolled = {k: v for k, v in sorted(courses_enrolled.items(), key=lambda item: item[1], reverse=True)}"
   ]
  },
  {
   "cell_type": "code",
   "execution_count": 34,
   "metadata": {},
   "outputs": [
    {
     "name": "stdout",
     "output_type": "stream",
     "text": [
      "#1 ('HWL', '1-PRE') :  enrolled:  784\n",
      "#2 ('BIOL', '42A') :  enrolled:  186\n",
      "#3 ('HS', '104B') :  enrolled:  175\n",
      "#4 ('PSYC', '10A') :  enrolled:  166\n",
      "#5 ('COSI', '164A') :  enrolled:  166\n",
      "#6 ('LGLS', '10A') :  enrolled:  145\n",
      "#7 ('ENVS', '2A') :  enrolled:  141\n",
      "#8 ('BIOL', '16A') :  enrolled:  136\n",
      "#9 ('NPSY', '199A') :  enrolled:  135\n",
      "#10 ('PSYC', '34B') :  enrolled:  119\n",
      "#11 ('BIOL', '350A') :  enrolled:  105\n",
      "#12 ('COSI', '21A') :  enrolled:  102\n",
      "#13 ('ANTH', '1A') :  enrolled:  101\n",
      "#14 ('COSI', '29A') :  enrolled:  101\n",
      "#15 ('PSYC', '31A') :  enrolled:  96\n",
      "#16 ('PSYC', '33A') :  enrolled:  96\n",
      "#17 ('COSI', '131A') :  enrolled:  94\n",
      "#18 ('BIOL', '350B') :  enrolled:  92\n",
      "#19 ('SOC', '83A') :  enrolled:  92\n",
      "#20 ('SOC', '84A') :  enrolled:  90\n"
     ]
    }
   ],
   "source": [
    "i = 0\n",
    "for key, value in islice(sorted_courses_enrolled.items(), 0, 20):\n",
    "    i+=1\n",
    "    print(f\"#{i}\", key, \": \", \"enrolled: \", value)"
   ]
  },
  {
   "cell_type": "markdown",
   "metadata": {},
   "source": [
    "### i) Question 1: how many courses offered last year had students on the waitlist?"
   ]
  },
  {
   "cell_type": "code",
   "execution_count": 35,
   "metadata": {},
   "outputs": [
    {
     "data": {
      "text/plain": [
       "214"
      ]
     },
     "execution_count": 35,
     "metadata": {},
     "output_type": "execute_result"
    }
   ],
   "source": [
    "wait_listed = 0\n",
    "for c in courses:\n",
    "    if c['waiting'] > 0:\n",
    "        wait_listed += 1\n",
    "wait_listed"
   ]
  },
  {
   "cell_type": "markdown",
   "metadata": {},
   "source": [
    "### i) Question 2: which BIO class had the most students enrolled?"
   ]
  },
  {
   "cell_type": "code",
   "execution_count": 36,
   "metadata": {},
   "outputs": [],
   "source": [
    "bio_enrolled = {}\n",
    "for c in courses:\n",
    "    if c['subject'] == \"BIOL\":\n",
    "        bio_enrolled[c['coursenum']] = c['enrolled']"
   ]
  },
  {
   "cell_type": "code",
   "execution_count": 37,
   "metadata": {},
   "outputs": [
    {
     "data": {
      "text/plain": [
       "'42A'"
      ]
     },
     "execution_count": 37,
     "metadata": {},
     "output_type": "execute_result"
    }
   ],
   "source": [
    "max_course = max(bio_enrolled, key=bio_enrolled.get)\n",
    "max_course"
   ]
  },
  {
   "cell_type": "markdown",
   "metadata": {},
   "source": [
    "### i) Question 3: which COSI courses offered last year had zero students enrolled?"
   ]
  },
  {
   "cell_type": "code",
   "execution_count": 38,
   "metadata": {},
   "outputs": [
    {
     "data": {
      "text/plain": [
       "{'Computational Linguistics Capstone Project',\n",
       " \"Computational Linguistics Master's Thesis\",\n",
       " 'Computational Linguistics Research Internship',\n",
       " 'Dissertation Research',\n",
       " 'Graduate Research Internship',\n",
       " 'Independent Study',\n",
       " \"Master's Project\",\n",
       " \"Master's Research Internship\",\n",
       " 'Readings',\n",
       " 'Research Internship and Analysis',\n",
       " 'Senior Field Project',\n",
       " 'Senior Research'}"
      ]
     },
     "execution_count": 38,
     "metadata": {},
     "output_type": "execute_result"
    }
   ],
   "source": [
    "zero_enrolled = set()\n",
    "for c in courses:\n",
    "    if c['subject'] == 'COSI' and c['enrolled'] == 0:\n",
    "        zero_enrolled.add(c['name'])\n",
    "zero_enrolled"
   ]
  },
  {
   "cell_type": "markdown",
   "metadata": {},
   "source": [
    "### i) Question 4: Question 4: are there any faculty who tought both a COSI and LING course last year?"
   ]
  },
  {
   "cell_type": "code",
   "execution_count": 39,
   "metadata": {},
   "outputs": [],
   "source": [
    "cosi_profs = set()\n",
    "ling_profs = set()\n",
    "for c in courses:\n",
    "    if c['subject'] == \"COSI\":\n",
    "        cosi_profs.add(c['instructor'][2])\n",
    "    if c['subject'] == \"LING\":\n",
    "        ling_profs.add(c['instructor'][2])"
   ]
  },
  {
   "cell_type": "code",
   "execution_count": 40,
   "metadata": {},
   "outputs": [
    {
     "name": "stdout",
     "output_type": "stream",
     "text": [
      "These profs teach both cosi and ling courses: \n",
      " {'smalamud@brandeis.edu', 'jamesp@brandeis.edu', 'lmgold@brandeis.edu'}\n"
     ]
    }
   ],
   "source": [
    "if bool(set(cosi_profs) & set(ling_profs)):\n",
    "    print(\"These profs teach both cosi and ling courses:\", \"\\n\", cosi_profs & ling_profs)\n",
    "else:\n",
    "    print(\"No common profs!\")"
   ]
  },
  {
   "cell_type": "markdown",
   "metadata": {},
   "source": [
    "### Ben is doing mardown in jupyter right now"
   ]
  },
  {
   "cell_type": "markdown",
   "metadata": {},
   "source": [
    "### Hannah is doing markdown in jupyter right now"
   ]
  },
  {
   "cell_type": "code",
   "execution_count": null,
   "metadata": {},
   "outputs": [],
   "source": []
  }
 ],
 "metadata": {
  "kernelspec": {
   "display_name": "Python 3",
   "language": "python",
   "name": "python3"
  },
  "language_info": {
   "codemirror_mode": {
    "name": "ipython",
    "version": 3
   },
   "file_extension": ".py",
   "mimetype": "text/x-python",
   "name": "python",
   "nbconvert_exporter": "python",
   "pygments_lexer": "ipython3",
   "version": "3.8.5"
  }
 },
 "nbformat": 4,
 "nbformat_minor": 4
}
