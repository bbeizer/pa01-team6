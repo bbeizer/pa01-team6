{
 "cells": [
  {
   "cell_type": "markdown",
   "metadata": {},
   "source": [
    "# Courses Demo\n",
    "This Jupyter notebook is for exploring the data set courses20-21.json\n",
    "which consists of all Brandeis courses in the 20-21 academic year (Fall20, Spr21, Sum21) \n",
    "which had at least 1 student enrolled.\n",
    "\n",
    "First we need to read the json file into a list of Python dictionaries"
   ]
  },
  {
   "cell_type": "code",
   "execution_count": 2,
   "metadata": {},
   "outputs": [],
   "source": [
    "import json\n",
    "import pandas as pd\n",
    "import numpy as np"
   ]
  },
  {
   "cell_type": "code",
   "execution_count": 3,
   "metadata": {},
   "outputs": [],
   "source": [
    "with open(\"courses20-21.json\",\"r\",encoding='utf-8') as jsonfile:\n",
    "    courses = json.load(jsonfile)"
   ]
  },
  {
   "cell_type": "markdown",
   "metadata": {},
   "source": [
    "## Structure of a course\n",
    "Next we look at the fields of each course dictionary and their values"
   ]
  },
  {
   "cell_type": "code",
   "execution_count": 4,
   "metadata": {},
   "outputs": [
    {
     "name": "stdout",
     "output_type": "stream",
     "text": [
      "there are 7813 courses in the dataset\n",
      "here is the data for course 1246\n"
     ]
    },
    {
     "data": {
      "text/plain": [
       "{'limit': 28,\n",
       " 'times': [{'start': 1080, 'end': 1170, 'days': ['w', 'm']}],\n",
       " 'enrolled': 4,\n",
       " 'details': 'Instruction for this course will be offered remotely. Meeting times for this course are listed in the schedule of classes (in ET).',\n",
       " 'type': 'section',\n",
       " 'status_text': 'Open',\n",
       " 'section': '1',\n",
       " 'waiting': 0,\n",
       " 'instructor': ['An', 'Huang', 'anhuang@brandeis.edu'],\n",
       " 'coinstructors': [],\n",
       " 'code': ['MATH', '223A'],\n",
       " 'subject': 'MATH',\n",
       " 'coursenum': '223A',\n",
       " 'name': 'Lie Algebras: Representation Theory',\n",
       " 'independent_study': False,\n",
       " 'term': '1203',\n",
       " 'description': \"Theorems of Engel and Lie. Semisimple Lie algebras, Cartan's criterion. Universal enveloping algebras, PBW theorem, Serre's construction. Representation theory. Other topics as time permits. Usually offered every second year.\\nAn Huang\"}"
      ]
     },
     "execution_count": 4,
     "metadata": {},
     "output_type": "execute_result"
    }
   ],
   "source": [
    "print('there are',len(courses),'courses in the dataset')\n",
    "print('here is the data for course 1246')\n",
    "courses[1246]"
   ]
  },
  {
   "cell_type": "markdown",
   "metadata": {},
   "source": [
    "## Cleaning the data\n",
    "If we want to sort courses by instructor or by code, we need to replace the lists with tuples (which are immutable lists)"
   ]
  },
  {
   "cell_type": "code",
   "execution_count": 5,
   "metadata": {},
   "outputs": [],
   "source": [
    "for course in courses:\n",
    "        course['instructor'] = tuple(course['instructor'])\n",
    "        course['coinstructors'] = tuple([tuple(f) for f in course['coinstructors']])\n",
    "        course['code']= tuple(course['code'])"
   ]
  },
  {
   "cell_type": "code",
   "execution_count": 6,
   "metadata": {},
   "outputs": [
    {
     "name": "stdout",
     "output_type": "stream",
     "text": [
      "notice that the instructor and code are tuples now\n"
     ]
    },
    {
     "data": {
      "text/plain": [
       "{'limit': 28,\n",
       " 'times': [{'start': 1080, 'end': 1170, 'days': ['w', 'm']}],\n",
       " 'enrolled': 4,\n",
       " 'details': 'Instruction for this course will be offered remotely. Meeting times for this course are listed in the schedule of classes (in ET).',\n",
       " 'type': 'section',\n",
       " 'status_text': 'Open',\n",
       " 'section': '1',\n",
       " 'waiting': 0,\n",
       " 'instructor': ('An', 'Huang', 'anhuang@brandeis.edu'),\n",
       " 'coinstructors': (),\n",
       " 'code': ('MATH', '223A'),\n",
       " 'subject': 'MATH',\n",
       " 'coursenum': '223A',\n",
       " 'name': 'Lie Algebras: Representation Theory',\n",
       " 'independent_study': False,\n",
       " 'term': '1203',\n",
       " 'description': \"Theorems of Engel and Lie. Semisimple Lie algebras, Cartan's criterion. Universal enveloping algebras, PBW theorem, Serre's construction. Representation theory. Other topics as time permits. Usually offered every second year.\\nAn Huang\"}"
      ]
     },
     "execution_count": 6,
     "metadata": {},
     "output_type": "execute_result"
    }
   ],
   "source": [
    "print('notice that the instructor and code are tuples now')\n",
    "courses[1246]"
   ]
  },
  {
   "cell_type": "markdown",
   "metadata": {},
   "source": [
    "# Exploring the data set\n",
    "Now we will show how to use straight python to explore the data set and answer some interesting questions. Next week we will start learning Pandas/Numpy which are packages that make it easier to explore large dataset efficiently.\n",
    "\n",
    "Here are some questions we can try to asnwer:\n",
    "* what are all of the subjects of courses (e.g. COSI, MATH, JAPN, PHIL, ...)\n",
    "* which terms are represented?\n",
    "* how many instructors taught at Brandeis last year?\n",
    "* what were the five largest course sections?\n",
    "* what were the five largest courses (where we combine sections)?\n",
    "* which are the five largest subjects measured by number of courses offered?\n",
    "* which are the five largest courses measured by number of students taught?\n",
    "* which course had the most sections taught in 20-21?\n",
    "* who are the top five faculty in terms of number of students taught?\n",
    "* etc."
   ]
  },
  {
   "cell_type": "markdown",
   "metadata": {},
   "source": [
    "### a) How many faculty taught COSI courses last year?"
   ]
  },
  {
   "cell_type": "code",
   "execution_count": 7,
   "metadata": {
    "scrolled": true
   },
   "outputs": [
    {
     "data": {
      "text/plain": [
       "27"
      ]
     },
     "execution_count": 7,
     "metadata": {},
     "output_type": "execute_result"
    }
   ],
   "source": [
    "cosi_instructors = set()\n",
    "for c in courses:\n",
    "    if c['subject'] == 'COSI':\n",
    "        cosi_instructors.add(c['instructor'])\n",
    "len(cosi_instructors)"
   ]
  },
  {
   "cell_type": "markdown",
   "metadata": {},
   "source": [
    "### b) What is the total number of students taking COSI courses last year?"
   ]
  },
  {
   "cell_type": "code",
   "execution_count": 8,
   "metadata": {},
   "outputs": [
    {
     "data": {
      "text/plain": [
       "272"
      ]
     },
     "execution_count": 8,
     "metadata": {},
     "output_type": "execute_result"
    }
   ],
   "source": [
    "enrolled_cosi = 0\n",
    "for c in courses:\n",
    "    if c['subject'] == 'COSI':\n",
    "        enrolled_cosi += 1\n",
    "enrolled_cosi"
   ]
  },
  {
   "cell_type": "markdown",
   "metadata": {},
   "source": [
    "### c) What was the median size of a COSI course last year (counting only those courses with at least 10 students)?"
   ]
  },
  {
   "cell_type": "code",
   "execution_count": 9,
   "metadata": {},
   "outputs": [
    {
     "data": {
      "text/plain": [
       "37.0"
      ]
     },
     "execution_count": 9,
     "metadata": {},
     "output_type": "execute_result"
    }
   ],
   "source": [
    "median_cosi = []\n",
    "for c in courses:\n",
    "    if c['subject'] == 'COSI' and c['enrolled'] >= 10:\n",
    "        median_cosi.append(c['enrolled'])\n",
    "np.median(median_cosi)"
   ]
  },
  {
   "cell_type": "markdown",
   "metadata": {},
   "source": [
    "### d) create a list of tuples (E,S) where S is a subject and E is the number of students enrolled in courses in that subject, sort it and print the top 10. This shows the top 10 subjects in terms of number of students taught."
   ]
  },
  {
   "cell_type": "code",
   "execution_count": 10,
   "metadata": {},
   "outputs": [
    {
     "data": {
      "text/plain": [
       "{'HRNS': 164,\n",
       " 'BUS': 2766,\n",
       " 'ECON': 2315,\n",
       " 'FIN': 1061,\n",
       " 'HS': 5318,\n",
       " 'ANTH': 1144,\n",
       " 'CHEM': 2322,\n",
       " 'PHIL': 917,\n",
       " 'HIST': 925,\n",
       " 'PSYC': 1704,\n",
       " 'WGS': 295,\n",
       " 'ENG': 1109,\n",
       " 'POL': 946,\n",
       " 'BIOL': 3085,\n",
       " 'NBIO': 409,\n",
       " 'CHIN': 383,\n",
       " 'MATH': 1785,\n",
       " 'MUS': 838,\n",
       " 'SOC': 931,\n",
       " 'BCBP': 92,\n",
       " 'BIOT': 32,\n",
       " 'ED': 785,\n",
       " 'CLAS': 236,\n",
       " 'COMH': 0,\n",
       " 'COSI': 2223,\n",
       " 'GRK': 32,\n",
       " 'LAT': 47,\n",
       " 'THA': 525,\n",
       " 'PHYS': 1097,\n",
       " 'NEJS': 442,\n",
       " 'NEUR': 156,\n",
       " 'PMED': 0,\n",
       " 'ESL': 54,\n",
       " 'BUS/FIN': 76,\n",
       " 'BUS/ECON': 43,\n",
       " 'ECON/FIN': 76,\n",
       " 'HS/POL': 6,\n",
       " 'HWL': 2734,\n",
       " 'GER': 78,\n",
       " 'JAPN': 227,\n",
       " 'KOR': 103,\n",
       " 'RUS': 67,\n",
       " 'ITAL': 93,\n",
       " 'HISP': 648,\n",
       " 'FREN': 222,\n",
       " 'IGS': 300,\n",
       " 'AMST': 215,\n",
       " 'AAAS': 183,\n",
       " 'BCHM': 368,\n",
       " 'BIPH': 4,\n",
       " 'EAS': 7,\n",
       " 'COML': 22,\n",
       " 'SAS': 14,\n",
       " 'YDSH': 24,\n",
       " 'SJSP': 7,\n",
       " 'REL': 52,\n",
       " 'PAX': 26,\n",
       " 'LGLS': 615,\n",
       " 'QBIO': 48,\n",
       " 'BIBC': 26,\n",
       " 'HSSP': 559,\n",
       " 'ENVS': 375,\n",
       " 'ECS': 9,\n",
       " 'FILM': 106,\n",
       " 'FA': 992,\n",
       " 'HOID': 0,\n",
       " 'IIM': 13,\n",
       " 'CAST': 72,\n",
       " 'IMES': 13,\n",
       " 'LALS': 43,\n",
       " 'LING': 301,\n",
       " 'JOUR': 171,\n",
       " 'HBRW': 160,\n",
       " 'NPSY': 389,\n",
       " 'ARBC': 70,\n",
       " 'INT': 50,\n",
       " 'CA': 41,\n",
       " 'EBIO': 1,\n",
       " 'AAAS/WGS': 89,\n",
       " 'HUM': 9,\n",
       " 'EL': 262,\n",
       " 'CBIO': 22,\n",
       " 'AMST/ENG': 37,\n",
       " 'RECS/THA': 14,\n",
       " 'UWS': 757,\n",
       " 'COMP': 99,\n",
       " 'MERS': 0,\n",
       " 'AAS/AAPI': 13,\n",
       " 'AAPI/HIS': 56,\n",
       " 'RECS': 33,\n",
       " 'AAPI/WGS': 55,\n",
       " 'AAAS/HIS': 48,\n",
       " 'BISC': 52,\n",
       " 'AAPI': 1,\n",
       " 'GS': 0,\n",
       " 'POL/WGS': 24,\n",
       " 'HUM/UWS': 36,\n",
       " 'CHSC': 20,\n",
       " 'AMST/MUS': 22,\n",
       " 'HIST/SOC': 15,\n",
       " 'QR': 30,\n",
       " 'CLAS/ENG': 18,\n",
       " 'ANTH/WGS': 26,\n",
       " 'HIST/WGS': 21,\n",
       " 'CLAS/NEJ': 20,\n",
       " 'ECS/ENG': 18,\n",
       " 'RBIF': 109,\n",
       " 'RBOT': 45,\n",
       " 'RCOM': 62,\n",
       " 'RDFT': 34,\n",
       " 'RDMD': 157,\n",
       " 'RHIN': 65,\n",
       " 'RIAS': 49,\n",
       " 'RIDT': 61,\n",
       " 'RMGT': 97,\n",
       " 'RPJM': 211,\n",
       " 'RSAN': 165,\n",
       " 'RSEG': 68,\n",
       " 'RUCD': 239,\n",
       " 'GECS': 10}"
      ]
     },
     "execution_count": 10,
     "metadata": {},
     "output_type": "execute_result"
    }
   ],
   "source": [
    "subject_and_students = {}\n",
    "tuple_list = []\n",
    "\n",
    "for c in courses:\n",
    "    if (c['subject'] in subject_and_students):\n",
    "        subject_and_students[c['subject']] += c['enrolled']\n",
    "    else:\n",
    "        subject_and_students[c['subject']] = c['enrolled']\n",
    "\n",
    "subject_and_students        "
   ]
  },
  {
   "cell_type": "code",
   "execution_count": null,
   "metadata": {},
   "outputs": [],
   "source": [
    "### e) Do the same as in (d) but print the top 10 subjects in terms of number of courses offered."
   ]
  },
  {
   "cell_type": "code",
   "execution_count": null,
   "metadata": {},
   "outputs": [],
   "source": []
  }
 ],
 "metadata": {
  "kernelspec": {
   "display_name": "Python 3 (ipykernel)",
   "language": "python",
   "name": "python3"
  },
  "language_info": {
   "codemirror_mode": {
    "name": "ipython",
    "version": 3
   },
   "file_extension": ".py",
   "mimetype": "text/x-python",
   "name": "python",
   "nbconvert_exporter": "python",
   "pygments_lexer": "ipython3",
   "version": "3.9.7"
  }
 },
 "nbformat": 4,
 "nbformat_minor": 4
}
